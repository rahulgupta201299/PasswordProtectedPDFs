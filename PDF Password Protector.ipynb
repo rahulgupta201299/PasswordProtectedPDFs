{
 "cells": [
  {
   "cell_type": "code",
   "execution_count": 28,
   "metadata": {},
   "outputs": [],
   "source": [
    "#!pip install PyPDF2"
   ]
  },
  {
   "cell_type": "code",
   "execution_count": 71,
   "metadata": {},
   "outputs": [],
   "source": [
    "from PyPDF2 import PdfFileReader,PdfFileWriter,PdfFileMerger"
   ]
  },
  {
   "cell_type": "code",
   "execution_count": 72,
   "metadata": {},
   "outputs": [
    {
     "data": {
      "text/plain": [
       "<PyPDF2.pdf.PdfFileReader at 0x1da9b10ebe0>"
      ]
     },
     "execution_count": 72,
     "metadata": {},
     "output_type": "execute_result"
    }
   ],
   "source": [
    "### open the current pdf\n",
    "file_pdf=PdfFileReader('MyResume.pdf')\n",
    "### object for pdf writer\n",
    "out_pdf=PdfFileWriter()\n",
    "file_pdf"
   ]
  },
  {
   "cell_type": "code",
   "execution_count": 55,
   "metadata": {},
   "outputs": [
    {
     "data": {
      "text/plain": [
       "2"
      ]
     },
     "execution_count": 55,
     "metadata": {},
     "output_type": "execute_result"
    }
   ],
   "source": [
    "file_pdf.numPages"
   ]
  },
  {
   "cell_type": "code",
   "execution_count": 56,
   "metadata": {},
   "outputs": [],
   "source": [
    "for i in range(file_pdf.numPages):\n",
    "    page_details=file_pdf.getPage(i)\n",
    "    ##add to the output page\n",
    "    ## page_details.rotateClockwise(90) helps in rotation\n",
    "    out_pdf.addPage(page_details)"
   ]
  },
  {
   "cell_type": "code",
   "execution_count": 57,
   "metadata": {},
   "outputs": [],
   "source": [
    "password=\"Rahul@1234\"\n",
    "out_pdf.encrypt(password)"
   ]
  },
  {
   "cell_type": "code",
   "execution_count": 58,
   "metadata": {},
   "outputs": [],
   "source": [
    "with open(\"encryptedResume.pdf\",\"wb\") as filename:\n",
    "    out_pdf.write(filename)\n",
    "## Till here to make it password protected"
   ]
  },
  {
   "cell_type": "code",
   "execution_count": 59,
   "metadata": {},
   "outputs": [
    {
     "data": {
      "text/plain": [
       "2"
      ]
     },
     "execution_count": 59,
     "metadata": {},
     "output_type": "execute_result"
    }
   ],
   "source": [
    "file_pdf.getNumPages()"
   ]
  },
  {
   "cell_type": "code",
   "execution_count": 60,
   "metadata": {},
   "outputs": [
    {
     "data": {
      "text/plain": [
       "{'/Creator': 'Chromium',\n",
       " '/Producer': 'Skia/PDF m83',\n",
       " '/CreationDate': \"D:20210606172919+00'00'\",\n",
       " '/ModDate': \"D:20210606172919+00'00'\"}"
      ]
     },
     "execution_count": 60,
     "metadata": {},
     "output_type": "execute_result"
    }
   ],
   "source": [
    "file_pdf.documentInfo"
   ]
  },
  {
   "cell_type": "code",
   "execution_count": 46,
   "metadata": {},
   "outputs": [
    {
     "name": "stdout",
     "output_type": "stream",
     "text": [
      "\n",
      "\n",
      "\n"
     ]
    }
   ],
   "source": [
    "## Extraction\n",
    "with open('MyResume.pdf', 'rb') as pdf_file:\n",
    "    pdf_reader = PdfFileReader(pdf_file)\n",
    "\n",
    "    # printing first page contents\n",
    "    pdf_page = pdf_reader.getPage(1)\n",
    "    print(pdf_page.extractText())\n",
    "\n",
    "    # reading all the pages content one by one\n",
    "    for page_num in range(pdf_reader.numPages):\n",
    "        pdf_page = pdf_reader.getPage(page_num)\n",
    "        print(pdf_page.extractText())"
   ]
  },
  {
   "cell_type": "code",
   "execution_count": null,
   "metadata": {},
   "outputs": [],
   "source": [
    "## Merging PDFs\n",
    "pdf_merger = PyPDF2.PdfFileMerger()\n",
    "pdf_files_list = ['Python_Tutorial.pdf', 'Python_Tutorial_rotated.pdf'] ## write name of files\n",
    "\n",
    "for pdf_file_name in pdf_files_list:\n",
    "    with open(pdf_file_name, 'rb') as pdf_file:\n",
    "        pdf_merger.append(pdf_file)\n",
    "\n",
    "with open('Python_Tutorial_merged.pdf', 'wb') as pdf_file_merged:\n",
    "    pdf_merger.write(pdf_file_merged)"
   ]
  },
  {
   "cell_type": "code",
   "execution_count": 75,
   "metadata": {},
   "outputs": [],
   "source": [
    "## Pdf to single page PDF's\n",
    "pdf=PdfFileReader('MyResume.pdf')\n",
    "for i in range(pdf.numPages):\n",
    "    page=pdf.getPage(i)\n",
    "    outPdf=PdfFileWriter()\n",
    "    outPdf.addPage(page)\n",
    "    f=\"pdf{index}.pdf\".format(index=i+1)\n",
    "    with open(f,\"wb\") as filename:\n",
    "        outPdf.write(filename)"
   ]
  },
  {
   "cell_type": "code",
   "execution_count": null,
   "metadata": {},
   "outputs": [],
   "source": []
  }
 ],
 "metadata": {
  "kernelspec": {
   "display_name": "Python 3",
   "language": "python",
   "name": "python3"
  },
  "language_info": {
   "codemirror_mode": {
    "name": "ipython",
    "version": 3
   },
   "file_extension": ".py",
   "mimetype": "text/x-python",
   "name": "python",
   "nbconvert_exporter": "python",
   "pygments_lexer": "ipython3",
   "version": "3.7.3"
  }
 },
 "nbformat": 4,
 "nbformat_minor": 2
}
